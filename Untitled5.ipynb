{
 "cells": [
  {
   "cell_type": "code",
   "execution_count": 42,
   "id": "5068c2f8",
   "metadata": {},
   "outputs": [
    {
     "name": "stdout",
     "output_type": "stream",
     "text": [
      "Ingrese su estrato socioeconómico:1\n",
      "¿Vive en Montería? (S/N): S\n",
      "Ingrese su edad: 17\n",
      "Ingrese su promedio académico ponderado proyectado: 3.0\n",
      "El gasto total mensual es de $1390500.00\n"
     ]
    }
   ],
   "source": [
    "# Solucion_taller# 3\n",
    " # Definir variables de entrada\n",
    "estrato = int(input(\"Ingrese su estrato socioeconómico:\"))\n",
    "lugar_residencia = input(\"¿Vive en Montería? (S/N): \")\n",
    "edad = int(input(\"Ingrese su edad: \"))\n",
    "promedio = float(input(\"Ingrese su promedio académico ponderado proyectado: \"))\n",
    "apoyo_transporte = 0\n",
    "apoyo_alimentacion = 0\n",
    "\n",
    "# Calcular apoyo de transporte\n",
    "if estrato == 1:\n",
    "  if edad < 17:\n",
    "    apoyo_transporte = 650000\n",
    "  else:\n",
    "    apoyo_transporte = 50000\n",
    "elif estrato == 2:\n",
    "  if edad < 17:\n",
    "    apoyo_transporte = 45000\n",
    "  else:\n",
    "    apoyo_transporte = 30000\n",
    "elif estrato == 3:\n",
    "  if edad < 17:\n",
    "    apoyo_transporte = 35000\n",
    "  else:\n",
    "    apoyo_transporte = 20000\n",
    "\n",
    "# definicion de los gastos alimenticios\n",
    "costo_alimentacion = 20000 * 20 # 20 días hábiles por mes\n",
    "if estrato == 1:\n",
    " apoyo_alimentacion = 0 \n",
    " costo_alimentacion * 0.9\n",
    "elif estrato == 2:\n",
    " apoyo_alimentacion = 0\n",
    " costo_alimentacion * 0.7\n",
    "elif estrato == 3:\n",
    " apoyo_alimentacion = 0\n",
    " costo_alimentacion * 0.5\n",
    "\n",
    "# definir los gastos del transporte \n",
    "if  lugar_residencia == \"S\":\n",
    "  costo_transporte = 2800 * 2 * 20 # 20 días hábiles por mes\n",
    "else:\n",
    "  costo_transporte = 3500 * 2 * 20 # 20 días hábiles por mes\n",
    "\n",
    "#definir el costo de la matricula \n",
    "               \n",
    "if promedio > 4.8:\n",
    " costo_matricula = 0\n",
    "elif promedio > 4.5:\n",
    " costo_matricula = 5000000 * 0.3\n",
    "elif promedio > 4.0:\n",
    "  costo_matricula = 5000000 * 0.6\n",
    "else:\n",
    "  costo_matricula = 5000000\n",
    "\n",
    "# definir el costo de la matricula \n",
    "gasto_total = costo_transporte + apoyo_transporte + costo_alimentacion - apoyo_alimentacion + costo_matricula\n",
    "gasto_mensual = gasto_total / 4\n",
    "\n",
    "# Mostrar resultado\n",
    "print(f\"El gasto total mensual es de ${gasto_mensual:.2f}\")\n",
    "    \n",
    "        \n",
    "    "
   ]
  },
  {
   "cell_type": "code",
   "execution_count": null,
   "id": "0793baee",
   "metadata": {},
   "outputs": [],
   "source": []
  },
  {
   "cell_type": "code",
   "execution_count": null,
   "id": "3509f688",
   "metadata": {},
   "outputs": [],
   "source": []
  }
 ],
 "metadata": {
  "kernelspec": {
   "display_name": "Python 3 (ipykernel)",
   "language": "python",
   "name": "python3"
  },
  "language_info": {
   "codemirror_mode": {
    "name": "ipython",
    "version": 3
   },
   "file_extension": ".py",
   "mimetype": "text/x-python",
   "name": "python",
   "nbconvert_exporter": "python",
   "pygments_lexer": "ipython3",
   "version": "3.11.2"
  }
 },
 "nbformat": 4,
 "nbformat_minor": 5
}
